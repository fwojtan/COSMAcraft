{
 "cells": [
  {
   "cell_type": "code",
   "execution_count": 65,
   "metadata": {},
   "outputs": [],
   "source": [
    "from swiftsimio import load\n",
    "\n",
    "import swiftsimio as sw\n",
    "import swiftsimio.metadata.particle as swp\n",
    "from swiftsimio.objects import cosmo_factor, a\n"
   ]
  },
  {
   "cell_type": "code",
   "execution_count": 70,
   "metadata": {},
   "outputs": [],
   "source": [
    "# Of course, replace this path with your own snapshot should you be using\n",
    "# custom data.\n",
    "\n",
    "import swiftsimio.metadata.particle as swp\n",
    "\n",
    "swp.particle_name_underscores.pop(6)\n",
    "swp.particle_name_class.pop(6)\n",
    "swp.particle_name_text.pop(6)\n",
    "\n",
    "data = load(\"cosmo_volume_example.hdf5\")"
   ]
  },
  {
   "cell_type": "code",
   "execution_count": 84,
   "metadata": {},
   "outputs": [
    {
     "name": "stdout",
     "output_type": "stream",
     "text": [
      "{'BoxSize': array([142.24751067, 142.24751067, 142.24751067]), 'Code': b'SWIFT', 'Dimension': array([3]), 'Flag_Entropy_ICs': array([0, 0, 0, 0, 0, 0], dtype=uint32), 'MassTable': array([0., 0., 0., 0., 0., 0.]), 'NumFilesPerSnapshot': array([1]), 'NumPart_ThisFile': array([261992, 262144,      0,      0,      0,    150], dtype=int64), 'NumPart_Total': array([261992, 262144,      0,      0,      0,    150], dtype=uint32), 'NumPart_Total_HighWord': array([0, 0, 0, 0, 0, 0], dtype=uint32), 'Redshift': array([0.]), 'RunName': b'Untitled SWIFT simulation', 'Scale-factor': array([1.]), 'Snapshot date': b'13:59:18 2020-07-08 BST', 'ThisFile': array([0]), 'Time': array([0.01403547])}\n"
     ]
    }
   ],
   "source": [
    "print(data.metadata.header)"
   ]
  },
  {
   "cell_type": "code",
   "execution_count": 64,
   "metadata": {},
   "outputs": [
    {
     "name": "stdout",
     "output_type": "stream",
     "text": [
      "Keys: <KeysViewHDF5 ['BHParticles', 'Cells', 'Code', 'Cosmology', 'DMParticles', 'GasParticles', 'GravityScheme', 'Header', 'HydroScheme', 'InternalCodeUnits', 'Parameters', 'PartType0', 'PartType1', 'PartType5', 'PhysicalConstants', 'Policy', 'StarsScheme', 'SubgridScheme', 'Units', 'UnusedParameters']>\n",
      "\n",
      " BHParticles\n",
      "\n",
      " ['AccretionRates', 'Coordinates', 'CumulativeNumberSeeds', 'DynamicalMasses', 'ElementMasses', 'EnergyReservoirs', 'FOFGroupIDs', 'FormationScaleFactors', 'GasCircularVelocities', 'GasDensities', 'GasRelativeVelocities', 'GasSoundSpeeds', 'IronMassesFromSNIa', 'LastHighEddingtonFractionScaleFactors', 'LastMajorMergerScaleFactors', 'LastMinorMergerScaleFactors', 'MassesFromAGB', 'MassesFromSNII', 'MassesFromSNIa', 'MetalMasses', 'MetalMassesFromAGB', 'MetalMassesFromSNII', 'MetalMassesFromSNIa', 'NumberOfMergers', 'NumberOfRepositions', 'NumberOfSwallows', 'ParticleIDs', 'SmoothingLengths', 'SubgridMasses', 'SwallowedAngularMomenta', 'TotalAccretedMasses', 'Velocities']\n",
      "\n",
      " [[5.1526165 1.6992671 0.        ... 0.        0.        0.       ]\n",
      " [5.1526165 1.6992671 0.        ... 0.        0.        0.       ]\n",
      " [5.1526165 1.6992671 0.        ... 0.        0.        0.       ]\n",
      " ...\n",
      " [5.1526165 1.6992671 0.        ... 0.        0.        0.       ]\n",
      " [5.1526165 1.6992671 0.        ... 0.        0.        0.       ]\n",
      " [5.1526165 1.6992671 0.        ... 0.        0.        0.       ]]\n",
      "\n",
      "\n",
      " <HDF5 group \"/Header\" (0 members)>\n"
     ]
    }
   ],
   "source": [
    "import h5py\n",
    "filename = \"cosmo_volume_example.hdf5\"\n",
    "\n",
    "with h5py.File(filename, \"r\") as f:\n",
    "    # List all groups\n",
    "    print(\"Keys: %s\" % f.keys())\n",
    "    a_group_key = list(f.keys())[0]\n",
    "    \n",
    "    print('\\n', a_group_key)\n",
    "    # Get the data\n",
    "    print('\\n', list(f[a_group_key]))\n",
    "    \n",
    "    print('\\n', f['BHParticles']['ElementMasses'][()])\n",
    "    \n",
    "    \n",
    "    print('\\n\\n', f['Header'])"
   ]
  }
 ],
 "metadata": {
  "kernelspec": {
   "display_name": "Python 3",
   "language": "python",
   "name": "python3"
  },
  "language_info": {
   "codemirror_mode": {
    "name": "ipython",
    "version": 3
   },
   "file_extension": ".py",
   "mimetype": "text/x-python",
   "name": "python",
   "nbconvert_exporter": "python",
   "pygments_lexer": "ipython3",
   "version": "3.8.1"
  }
 },
 "nbformat": 4,
 "nbformat_minor": 4
}
